{
 "cells": [
  {
   "cell_type": "code",
   "execution_count": 1,
   "metadata": {
    "collapsed": false
   },
   "outputs": [
    {
     "data": {
      "text/plain": [
       "getAccumulationCheb (generic function with 1 method)"
      ]
     },
     "execution_count": 1,
     "metadata": {},
     "output_type": "execute_result"
    }
   ],
   "source": [
    "include(\"kernel.jl\")"
   ]
  },
  {
   "cell_type": "code",
   "execution_count": 2,
   "metadata": {
    "collapsed": false,
    "scrolled": true
   },
   "outputs": [
    {
     "name": "stdout",
     "output_type": "stream",
     "text": [
      "elapsed time: 2.557226807 seconds\n"
     ]
    },
    {
     "data": {
      "text/plain": [
       "2.557226807"
      ]
     },
     "execution_count": 2,
     "metadata": {},
     "output_type": "execute_result"
    }
   ],
   "source": [
    "b = BBFMM()\n",
    "\n",
    "n = 256\n",
    "m = Int(n/2)\n",
    "N = (m)^2\n",
    "\n",
    "x = (1:2:(n-1))/n\n",
    "y = (1:2:(n-1))/n\n",
    "\n",
    "source = rand(N, 2)\n",
    "\n",
    "  \n",
    "\n",
    "target = 0.5 * rand(N, 2) + 0.2\n",
    "charge = ones(N)\n",
    "\n",
    "### kernel function for Laplacian, this kernel does not require normal vectors\n",
    "function f(s, t)\n",
    "    r = norm(s-t)\n",
    "    if (r < 1e-8) \n",
    "        return 0.\n",
    "    else\n",
    "        return log(r)\n",
    "    end\n",
    "end\n",
    "tic()\n",
    "initialize!(b, 4, source, target, charge, N, N, 80, 10, f);\n",
    "toc()"
   ]
  },
  {
   "cell_type": "code",
   "execution_count": 3,
   "metadata": {
    "collapsed": false
   },
   "outputs": [],
   "source": [
    "upPass!(b, 1)"
   ]
  },
  {
   "cell_type": "code",
   "execution_count": 4,
   "metadata": {
    "collapsed": false
   },
   "outputs": [],
   "source": [
    "potential = zeros(N);\n",
    "downPass!(b, 1, potential);"
   ]
  },
  {
   "cell_type": "code",
   "execution_count": 5,
   "metadata": {
    "collapsed": false
   },
   "outputs": [
    {
     "name": "stdout",
     "output_type": "stream",
     "text": [
      "elapsed time: 228.183390801 seconds\n"
     ]
    },
    {
     "data": {
      "text/plain": [
       "9.909311338155712e-6"
      ]
     },
     "execution_count": 5,
     "metadata": {},
     "output_type": "execute_result"
    }
   ],
   "source": [
    "tic()\n",
    "checkPotential = zeros(N)\n",
    "for i = 1:N\n",
    "    for j = 1:N\n",
    "        checkPotential[i] += b.kernel(b.tree.sourceTree[j,:], b.tree.targetTree[i,:]) * b.chargeTree[j]\n",
    "    end\n",
    "end\n",
    "toc()\n",
    "norm(potential - checkPotential)/norm(checkPotential)"
   ]
  }
 ],
 "metadata": {
  "kernelspec": {
   "display_name": "Julia 0.5.0",
   "language": "julia",
   "name": "julia-0.5"
  },
  "language_info": {
   "file_extension": ".jl",
   "mimetype": "application/julia",
   "name": "julia",
   "version": "0.5.0"
  }
 },
 "nbformat": 4,
 "nbformat_minor": 0
}
