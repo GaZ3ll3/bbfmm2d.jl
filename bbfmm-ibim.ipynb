{
 "cells": [
  {
   "cell_type": "code",
   "execution_count": 1,
   "metadata": {
    "collapsed": true
   },
   "outputs": [],
   "source": [
    "include(\"kernel.jl\");"
   ]
  },
  {
   "cell_type": "code",
   "execution_count": 2,
   "metadata": {
    "collapsed": false
   },
   "outputs": [
    {
     "data": {
      "text/plain": [
       "wcos"
      ]
     },
     "execution_count": 2,
     "metadata": {},
     "output_type": "execute_result"
    }
   ],
   "source": [
    "\"\"\"\n",
    "weight function\n",
    "\"\"\"\n",
    "function wcos(r)\n",
    "    if (abs(r) >=1) \n",
    "        return 0.\n",
    "    else\n",
    "        return (1.0 + cos(π * r))/2.0\n",
    "    end\n",
    "end"
   ]
  },
  {
   "cell_type": "code",
   "execution_count": 3,
   "metadata": {
    "collapsed": false
   },
   "outputs": [
    {
     "data": {
      "text/plain": [
       "radius"
      ]
     },
     "execution_count": 3,
     "metadata": {},
     "output_type": "execute_result"
    }
   ],
   "source": [
    "\"\"\"\n",
    "domain radius\n",
    "\"\"\"\n",
    "radius = 0.50"
   ]
  },
  {
   "cell_type": "code",
   "execution_count": 4,
   "metadata": {
    "collapsed": false
   },
   "outputs": [
    {
     "data": {
      "text/plain": [
       "Projection (generic function with 1 method)"
      ]
     },
     "execution_count": 4,
     "metadata": {},
     "output_type": "execute_result"
    }
   ],
   "source": [
    "\"\"\"\n",
    "Jacobian function\n",
    "\n",
    "Projection to surface\n",
    "\"\"\"\n",
    "\n",
    "Jacobian(p, η) = 1.0 - η/norm(p)\n",
    "Projection(r, p) = r*p/norm(p)"
   ]
  },
  {
   "cell_type": "code",
   "execution_count": 5,
   "metadata": {
    "collapsed": false
   },
   "outputs": [
    {
     "data": {
      "text/plain": [
       "ϕ"
      ]
     },
     "execution_count": 5,
     "metadata": {},
     "output_type": "execute_result"
    }
   ],
   "source": [
    "\"\"\"\n",
    "The kernel function\n",
    "\"\"\"\n",
    "function ϕ(target, source)\n",
    "    v = target - source\n",
    "    r = norm(v)\n",
    "    surf_n = source/norm(source)\n",
    "    κ = 1.0/norm(source)\n",
    "    \n",
    "    return Jacobian(source, norm(source) - radius)*(r > 1e-10 ? -dot(v, surf_n)/r^2/2π : κ/4π)\n",
    "end"
   ]
  },
  {
   "cell_type": "code",
   "execution_count": 6,
   "metadata": {
    "collapsed": true
   },
   "outputs": [],
   "source": [
    "# shifts\n",
    "yshift = 0.\n",
    "xshift = 0.\n",
    "\n",
    "M = 160\n",
    "ϵm = 0.1\n",
    "\n",
    "x_range = linspace(-1. + xshift, 1. + xshift, M)\n",
    "y_range = linspace(-1. + yshift, 1. + yshift, M)\n",
    "\n",
    "# build meshgrid\n",
    "xs, ys = reshape(x_range, M, 1) , reshape(y_range, 1, M)\n",
    "xs, ys = (repmat(xs, 1, M), repmat(ys, M, 1))\n",
    "\n",
    "# dxdy/ϵ\n",
    "ΔxΔy_div_ϵ = (x_range[2] - x_range[1]) * (y_range[2] - y_range[1])/ϵm\n",
    "\n",
    "\n",
    "# count interior points\n",
    "N = 0\n",
    "for p in zip(xs, ys)\n",
    "    if abs(norm(collect(p)) - radius) < ϵm\n",
    "        N+=1\n",
    "    end\n",
    "end\n",
    "\n",
    "source = zeros(N, 2)\n",
    "target = zeros(N, 2)\n",
    "weight = zeros(N)\n",
    "\n",
    "\n",
    "# assign source/target, weight\n",
    "sI = 1\n",
    "for p in zip(xs, ys)\n",
    "    pv = collect(p)\n",
    "    normp = norm(pv)\n",
    "    if abs(normp - radius) < ϵm\n",
    "        target[sI, :] = source[sI, :] = (radius/normp) * pv\n",
    "        weight[sI] = wcos((normp - radius)/ϵm)*ΔxΔy_div_ϵ\n",
    "        sI += 1\n",
    "    end\n",
    "end\n",
    "\n"
   ]
  },
  {
   "cell_type": "code",
   "execution_count": 7,
   "metadata": {
    "collapsed": false
   },
   "outputs": [
    {
     "data": {
      "text/plain": [
       "g (generic function with 1 method)"
      ]
     },
     "execution_count": 7,
     "metadata": {},
     "output_type": "execute_result"
    }
   ],
   "source": [
    "# t: target\n",
    "# s: source\n",
    "# n: normal (not used)\n",
    "\n",
    "function g(s,t)\n",
    "    return ϕ(t,s)\n",
    "end"
   ]
  },
  {
   "cell_type": "code",
   "execution_count": 8,
   "metadata": {
    "collapsed": true
   },
   "outputs": [],
   "source": [
    "bbfmm = BBFMM();\n",
    "np = 5;"
   ]
  },
  {
   "cell_type": "code",
   "execution_count": 9,
   "metadata": {
    "collapsed": true
   },
   "outputs": [],
   "source": [
    "using KrylovMethods"
   ]
  },
  {
   "cell_type": "code",
   "execution_count": 10,
   "metadata": {
    "collapsed": false
   },
   "outputs": [
    {
     "data": {
      "text/plain": [
       "A (generic function with 1 method)"
      ]
     },
     "execution_count": 10,
     "metadata": {},
     "output_type": "execute_result"
    }
   ],
   "source": [
    "function A(x)\n",
    "    initialize!(bbfmm, np, source, target, x.*weight, N, N, 80, 10, g);\n",
    "    return 0.5 * x + FMM!(bbfmm)\n",
    "end"
   ]
  },
  {
   "cell_type": "code",
   "execution_count": 11,
   "metadata": {
    "collapsed": false
   },
   "outputs": [
    {
     "name": "stdout",
     "output_type": "stream",
     "text": [
      "=== bicgstb ===\n",
      "iter\t relres\n",
      "  1\t1.70e-02\n",
      "  2\t1.06e-11\n",
      "bcgstb achieved desired tolerance at iteration 2. Residual norm is 1.06e-11.\n",
      " 10.451144 seconds (160.50 M allocations: 3.892 GB, 4.23% gc time)\n"
     ]
    }
   ],
   "source": [
    "testCharge=ones(N)\n",
    "@time y =  bicgstb(A, testCharge, tol=1e-10, maxIter=100 , x = rand(N), out=2);\n",
    "\"\"\"\n",
    "gmres take more time usually\n",
    "\"\"\"\n",
    "# @time y =  gmres(A, testCharge, 30 , x = rand(N), out=2); "
   ]
  },
  {
   "cell_type": "code",
   "execution_count": 12,
   "metadata": {
    "collapsed": false
   },
   "outputs": [
    {
     "name": "stdout",
     "output_type": "stream",
     "text": [
      " 55.136498 seconds (1.15 G allocations: 29.532 GB, 5.12% gc time)\n",
      " 10.713601 seconds (159.54 M allocations: 3.712 GB, 4.93% gc time)\n",
      "L∞ error is 3.825333e-04\n"
     ]
    }
   ],
   "source": [
    "M = 10000\n",
    "target = 0.9 * rand(M, 2) - 0.45\n",
    "checkPotential = zeros(M)\n",
    "initialize!(bbfmm, np, source, target, y[1].*weight, N, M, 80, 10, g);\n",
    "@time for i = 1:M\n",
    "    for j = 1:N\n",
    "        checkPotential[i] += bbfmm.kernel(bbfmm.tree.sourceTree[j,:], target[i, :])* bbfmm.chargeTree[j]\n",
    "    end\n",
    "end\n",
    "@time potential = FMM!(bbfmm)\n",
    "@printf(\"L∞ error is %e\\n\", maximum(abs(potential - checkPotential)))"
   ]
  }
 ],
 "metadata": {
  "kernelspec": {
   "display_name": "Julia 0.5.0",
   "language": "julia",
   "name": "julia-0.5"
  },
  "language_info": {
   "file_extension": ".jl",
   "mimetype": "application/julia",
   "name": "julia",
   "version": "0.5.0"
  }
 },
 "nbformat": 4,
 "nbformat_minor": 0
}
